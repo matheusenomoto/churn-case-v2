{
 "cells": [
  {
   "cell_type": "markdown",
   "metadata": {},
   "source": [
    "# Telco Customer Churn\n",
    "- Focused customer retention programs\n",
    "- link: https://www.kaggle.com/datasets/blastchar/telco-customer-churn"
   ]
  },
  {
   "cell_type": "markdown",
   "metadata": {},
   "source": [
    "- pip install keras\n",
    "- pip install --upgrade pip setuptools\n",
    "- pip install tensorflow\n",
    "- pip install scikit-learn"
   ]
  },
  {
   "cell_type": "code",
   "execution_count": 1,
   "metadata": {},
   "outputs": [],
   "source": [
    "import keras\n",
    "import pandas as pd\n",
    "import warnings\n",
    "warnings.filterwarnings('ignore')\n",
    "from sklearn.model_selection import train_test_split"
   ]
  },
  {
   "cell_type": "code",
   "execution_count": null,
   "metadata": {},
   "outputs": [],
   "source": [
    "df = pd.read_csv('churn-telco-customer.csv')"
   ]
  },
  {
   "cell_type": "markdown",
   "metadata": {},
   "source": [
    "# Checking Null"
   ]
  },
  {
   "cell_type": "code",
   "execution_count": null,
   "metadata": {},
   "outputs": [],
   "source": [
    "df_isnull = df.isnull()\n",
    "df_isnull"
   ]
  },
  {
   "cell_type": "code",
   "execution_count": null,
   "metadata": {},
   "outputs": [],
   "source": [
    "df_isnull_sum = df.isnull().sum()\n",
    "df_isnull_sum"
   ]
  },
  {
   "cell_type": "code",
   "execution_count": null,
   "metadata": {},
   "outputs": [],
   "source": [
    "df_isnull_per = (df.isnull().sum() / len(df) * 100)\n",
    "df_isnull_per"
   ]
  },
  {
   "cell_type": "markdown",
   "metadata": {},
   "source": [
    "# Checking Churn"
   ]
  },
  {
   "cell_type": "code",
   "execution_count": null,
   "metadata": {},
   "outputs": [],
   "source": [
    "df_churn = df.loc[df['Churn'] == 'Yes']\n",
    "df_churn"
   ]
  },
  {
   "cell_type": "code",
   "execution_count": null,
   "metadata": {},
   "outputs": [],
   "source": [
    "df_not_churn = df.loc[df['Churn'] == 'No']\n",
    "df_not_churn"
   ]
  },
  {
   "cell_type": "code",
   "execution_count": null,
   "metadata": {},
   "outputs": [],
   "source": [
    "df_unique = df['customerID'].nunique()\n",
    "df_unique"
   ]
  },
  {
   "cell_type": "code",
   "execution_count": null,
   "metadata": {},
   "outputs": [],
   "source": [
    "df_churn_boolean = df.copy()\n",
    "df_churn_boolean['Churn'] = df_churn_boolean['Churn'].map({'No': 0, 'Yes': 1})\n",
    "df_churn_boolean['gender'] = df_churn_boolean['gender'].map({'Female': 0, 'Male': 1})\n",
    "df_churn_boolean['Partner'] = df_churn_boolean['Partner'].map({'No': 0, 'Yes': 1})\n",
    "df_churn_boolean['Dependents'] = df_churn_boolean['Dependents'].map({'No': 0, 'Yes': 1})\n",
    "df_churn_boolean['PhoneService'] = df_churn_boolean['PhoneService'].map({'No': 0, 'Yes': 1})\n",
    "df_churn_boolean['MultipleLines'] = df_churn_boolean['MultipleLines'].map({'No': 0, 'Yes': 1, 'No phone service': 2})\n",
    "df_churn_boolean['InternetService'] = df_churn_boolean['InternetService'].map({'No': 0, 'Fiber optic': 1, 'DSL': 2})\n",
    "df_churn_boolean['OnlineSecurity'] = df_churn_boolean['OnlineSecurity'].map({'No': 0, 'Yes': 1, 'No internet service': 2})\n",
    "df_churn_boolean['OnlineBackup'] = df_churn_boolean['OnlineBackup'].map({'No': 0, 'Yes': 1, 'No internet service': 2})\n",
    "df_churn_boolean['DeviceProtection'] = df_churn_boolean['DeviceProtection'].map({'No': 0, 'Yes': 1, 'No internet service': 2})\n",
    "df_churn_boolean['TechSupport'] = df_churn_boolean['TechSupport'].map({'No': 0, 'Yes': 1, 'No internet service': 2})\n",
    "df_churn_boolean['StreamingTV'] = df_churn_boolean['StreamingTV'].map({'No': 0, 'Yes': 1, 'No internet service': 2})\n",
    "df_churn_boolean['StreamingMovies'] = df_churn_boolean['StreamingMovies'].map({'No': 0, 'Yes': 1, 'No internet service': 2})\n",
    "df_churn_boolean['Contract'] = df_churn_boolean['Contract'].map({'Month-to-month': 0, 'One year': 1, 'Two year': 2})\n",
    "df_churn_boolean['PaperlessBilling'] = df_churn_boolean['PaperlessBilling'].map({'No': 0, 'Yes': 1})\n",
    "df_churn_boolean['PaymentMethod'] = df_churn_boolean['PaymentMethod'].map({'Electronic check': 0, 'Mailed check': 1, 'Bank transfer (automatic)': 2, 'Credit card (automatic)': 3})\n",
    "df_churn_boolean['MonthlyCharges'] = pd.to_numeric(df_churn_boolean['MonthlyCharges'], errors='coerce')\n",
    "df_churn_boolean['MonthlyCharges'].fillna(df_churn_boolean['MonthlyCharges'].mean(), inplace=True)\n",
    "df_churn_boolean['TotalCharges'] = pd.to_numeric(df_churn_boolean['TotalCharges'], errors='coerce')\n",
    "df_churn_boolean['TotalCharges'].fillna(df_churn_boolean['TotalCharges'].mean(), inplace=True)\n",
    "\n",
    "# df_churn_boolean['MonthlyCharges'].unique()\n",
    "df_churn_boolean"
   ]
  },
  {
   "cell_type": "markdown",
   "metadata": {},
   "source": [
    "# Slicing Predictable Vars Between Pred and target "
   ]
  },
  {
   "cell_type": "code",
   "execution_count": null,
   "metadata": {},
   "outputs": [],
   "source": [
    "y = df_churn_boolean['Churn']\n",
    "x = df_churn_boolean.drop(['customerID', 'Churn'], axis=1)\n",
    "\n",
    "x_training, x_testing, y_training, y_testing = train_test_split(x, y, test_size = 0.10)"
   ]
  },
  {
   "cell_type": "code",
   "execution_count": null,
   "metadata": {},
   "outputs": [],
   "source": [
    "from keras.models import Sequential\n",
    "from keras.layers import Dense"
   ]
  },
  {
   "cell_type": "code",
   "execution_count": null,
   "metadata": {},
   "outputs": [],
   "source": [
    "model = Sequential()\n",
    "model.add(Dense(units=3, activation='relu', input_dim=x_training.shape[1]))\n",
    "model.add(Dense(units=1, activation='linear'))\n",
    "\n",
    "model.compile(loss='mse', optimizer='adam', metrics=['mae'])\n",
    "result = model.fit(x_training, y_training, epochs=200, batch_size=32, validation_data=(x_testing, y_testing))"
   ]
  },
  {
   "cell_type": "code",
   "execution_count": null,
   "metadata": {},
   "outputs": [],
   "source": [
    "import matplotlib.pyplot as plt\n",
    "\n",
    "plt.plot(result.history['loss'])\n",
    "plt.plot(result.history['val_loss'])\n",
    "plt.title('Histórico de treinamento')\n",
    "plt.ylabel('Função de Custo')\n",
    "plt.xlabel('Época de treinamento')\n",
    "plt.legend(['Erro treino', 'Erro teste'])\n",
    "plt.show()"
   ]
  },
  {
   "cell_type": "code",
   "execution_count": null,
   "metadata": {},
   "outputs": [],
   "source": []
  }
 ],
 "metadata": {
  "kernelspec": {
   "display_name": "venv",
   "language": "python",
   "name": "python3"
  },
  "language_info": {
   "codemirror_mode": {
    "name": "ipython",
    "version": 3
   },
   "file_extension": ".py",
   "mimetype": "text/x-python",
   "name": "python",
   "nbconvert_exporter": "python",
   "pygments_lexer": "ipython3",
   "version": "3.12.1"
  }
 },
 "nbformat": 4,
 "nbformat_minor": 2
}
